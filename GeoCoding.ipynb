{
  "nbformat": 4,
  "nbformat_minor": 0,
  "metadata": {
    "colab": {
      "provenance": [],
      "include_colab_link": true
    },
    "kernelspec": {
      "name": "python3",
      "display_name": "Python 3"
    }
  },
  "cells": [
    {
      "cell_type": "markdown",
      "metadata": {
        "id": "view-in-github",
        "colab_type": "text"
      },
      "source": [
        "<a href=\"https://colab.research.google.com/github/Malerion/Archives-Python/blob/main/GeoCoding.ipynb\" target=\"_parent\"><img src=\"https://colab.research.google.com/assets/colab-badge.svg\" alt=\"Open In Colab\"/></a>"
      ]
    },
    {
      "cell_type": "markdown",
      "metadata": {
        "id": "Lq09sQbMUXRG"
      },
      "source": [
        "# Introduction\n",
        "L'API Adresse est une API REST qui renvoie les coordonnées géographiques (latitude et longitude) à partir d'une adresse postale française.\n",
        "Si plusieurs adresses postales (pour cause d'imprécision ou de numéro de rue inexistant) correspondant à la requête sont trouvées, l'API retourne plusieurs coordonnées, avec à chaque fois un \"score\". Les coordonnées sont données dans l'ordre de score décroissant, vous pouvez donc retenir la première adresse."
      ]
    },
    {
      "cell_type": "code",
      "metadata": {
        "id": "e7dNMdT8WU8h",
        "colab": {
          "base_uri": "https://localhost:8080/"
        },
        "outputId": "39479d21-1bc7-46c4-8a2b-85cfc5e21750"
      },
      "source": [
        "# Exécute le code suivant :\n",
        "import requests\n",
        "link = 'https://api-adresse.data.gouv.fr/search/?q=728+Route+de+Villerest&postcode=42155'\n",
        "r = requests.get(link).json()\n",
        "r"
      ],
      "execution_count": 1,
      "outputs": [
        {
          "output_type": "execute_result",
          "data": {
            "text/plain": [
              "{'type': 'FeatureCollection',\n",
              " 'version': 'draft',\n",
              " 'features': [{'type': 'Feature',\n",
              "   'geometry': {'type': 'Point', 'coordinates': [3.993163, 46.00996]},\n",
              "   'properties': {'label': '728 Route de Villerest 42155 Ouches',\n",
              "    'score': 0.951900909090909,\n",
              "    'housenumber': '728',\n",
              "    'id': '42162_0008_00728',\n",
              "    'name': '728 Route de Villerest',\n",
              "    'postcode': '42155',\n",
              "    'citycode': '42162',\n",
              "    'x': 776847.88,\n",
              "    'y': 6546063.21,\n",
              "    'city': 'Ouches',\n",
              "    'context': '42, Loire, Auvergne-Rhône-Alpes',\n",
              "    'type': 'housenumber',\n",
              "    'importance': 0.47091,\n",
              "    'street': 'Route de Villerest'}},\n",
              "  {'type': 'Feature',\n",
              "   'geometry': {'type': 'Point', 'coordinates': [3.992892, 45.993344]},\n",
              "   'properties': {'label': 'Route de Villerest 42155 Lentigny',\n",
              "    'score': 0.7023167532467532,\n",
              "    'id': '42120_0066',\n",
              "    'name': 'Route de Villerest',\n",
              "    'postcode': '42155',\n",
              "    'citycode': '42120',\n",
              "    'x': 776850.11,\n",
              "    'y': 6544217.88,\n",
              "    'city': 'Lentigny',\n",
              "    'context': '42, Loire, Auvergne-Rhône-Alpes',\n",
              "    'type': 'street',\n",
              "    'importance': 0.43977,\n",
              "    'street': 'Route de Villerest'}}],\n",
              " 'attribution': 'BAN',\n",
              " 'licence': 'ETALAB-2.0',\n",
              " 'query': '728 Route de Villerest',\n",
              " 'filters': {'postcode': '42155'},\n",
              " 'limit': 5}"
            ]
          },
          "metadata": {},
          "execution_count": 1
        }
      ]
    },
    {
      "cell_type": "code",
      "metadata": {
        "id": "D7YK4RLtYxJP",
        "colab": {
          "base_uri": "https://localhost:8080/"
        },
        "outputId": "a3e3c6f0-34fa-4f1a-e53e-6db395431333"
      },
      "source": [
        "# Les coordonnées sont données dans l'ordre longitude puis latitude\n",
        "# Ici nous ne sélectionnons que la première adresse (indice 0)\n",
        "print(\"première adresse :\", r['features'][0])\n",
        "print(\"coordonnées de la première adresse :\",r['features'][0]['geometry']['coordinates'])\n",
        "print(\"score de la première adresse :\",r['features'][0]['properties']['score'])"
      ],
      "execution_count": 2,
      "outputs": [
        {
          "output_type": "stream",
          "name": "stdout",
          "text": [
            "première adresse : {'type': 'Feature', 'geometry': {'type': 'Point', 'coordinates': [3.993163, 46.00996]}, 'properties': {'label': '728 Route de Villerest 42155 Ouches', 'score': 0.951900909090909, 'housenumber': '728', 'id': '42162_0008_00728', 'name': '728 Route de Villerest', 'postcode': '42155', 'citycode': '42162', 'x': 776847.88, 'y': 6546063.21, 'city': 'Ouches', 'context': '42, Loire, Auvergne-Rhône-Alpes', 'type': 'housenumber', 'importance': 0.47091, 'street': 'Route de Villerest'}}\n",
            "coordonnées de la première adresse : [3.993163, 46.00996]\n",
            "score de la première adresse : 0.951900909090909\n"
          ]
        }
      ]
    },
    {
      "cell_type": "code",
      "metadata": {
        "id": "1n8xgPwnbddp",
        "colab": {
          "base_uri": "https://localhost:8080/",
          "height": 51
        },
        "outputId": "2fa65d90-a9cb-4142-ccdc-76531ada105b"
      },
      "source": [
        "# Pour plus de facilité, tu peux ajouter une limite sur le nombre d'éléments retournés\n",
        "\n",
        "link = 'https://api-adresse.data.gouv.fr/search/?q=728+Route+de+Villerest&postcode=42155'\n",
        "r = requests.get(link).json()\n",
        "print(\"SANS limite, cette adresse renvoie combien de coordonnées ?\",len(r['features']))\n",
        "\n",
        "link = 'https://api-adresse.data.gouv.fr/search/?q=728+Route+de+Villerest&postcode=42155&limit=1'\n",
        "r = requests.get(link).json()\n",
        "print(\"AVEC limite, cette adresse renvoie combien de coordonnées ?\",len(r['features']))"
      ],
      "execution_count": null,
      "outputs": [
        {
          "output_type": "stream",
          "text": [
            "SANS limite, cette adresse renvoie combien de coordonnées ? 2\n",
            "AVEC limite, cette adresse renvoie combien de coordonnées ? 1\n"
          ],
          "name": "stdout"
        }
      ]
    },
    {
      "cell_type": "markdown",
      "metadata": {
        "id": "PhjWl336aVUm"
      },
      "source": [
        "## Comment créer sa requête à l'API\n",
        "A toi de modifier la chaine de caractère pour créer la bonne URL de requête"
      ]
    },
    {
      "cell_type": "code",
      "metadata": {
        "id": "-_A9JKScWV5I",
        "colab": {
          "base_uri": "https://localhost:8080/"
        },
        "outputId": "5277307c-a8b3-4c14-f14c-69063f457359"
      },
      "source": [
        "# On observe que la requête se compose d'une partie fixe, suivi de l'adresse à chercher\n",
        "# Une URL ne peut pas comporter de caractère espace \" \",\n",
        "# et il faut éviter si possible d'avoir des caractères spéciaux ou des accents\n",
        "\n",
        "link_main = 'https://api-adresse.data.gouv.fr/search/?q='\n",
        "adresse = '728 Route de Villerest, 42155 Ouches'\n",
        "\n",
        "\n",
        "link = link_main + adresse.replace(' ', '/')# A toi de jouer ici\n",
        "\n",
        "print(link)"
      ],
      "execution_count": 10,
      "outputs": [
        {
          "output_type": "stream",
          "name": "stdout",
          "text": [
            "https://api-adresse.data.gouv.fr/search/?q=728/Route/de/Villerest,/42155/Ouches\n"
          ]
        }
      ]
    },
    {
      "cell_type": "code",
      "metadata": {
        "id": "9gLir_IWdHGz"
      },
      "source": [
        "# Crée ici une fonction qui transforme une adresse postale en URL de requête pour l'API Adresse,\n",
        "# puis effectue la requête et retourne les coordonnées :\n",
        "\n",
        "def API_adresse(adresse_postale):\n",
        "    adresse_modifiee = adresse_postale.replace(' ', '/')\n",
        "\n",
        "    link_main = 'https://api-adresse.data.gouv.fr/search/?q='\n",
        "    url_requete = link_main + adresse_modifiee\n",
        "\n",
        "    return url_requete\n"
      ],
      "execution_count": 16,
      "outputs": []
    },
    {
      "cell_type": "code",
      "metadata": {
        "id": "C0ZQnTyvdY4M",
        "colab": {
          "base_uri": "https://localhost:8080/"
        },
        "outputId": "2bd273a1-30c3-492a-d67d-dcf2044ffdc8"
      },
      "source": [
        "# Teste-là ici :\n",
        "adresse_postale_test = '728 Route de Villerest, 42155 Ouches'\n",
        "url_api_adresse_test = API_adresse(adresse_postale_test)\n",
        "print(url_api_adresse_test)"
      ],
      "execution_count": 18,
      "outputs": [
        {
          "output_type": "stream",
          "name": "stdout",
          "text": [
            "https://api-adresse.data.gouv.fr/search/?q=728/Route/de/Villerest,/42155/Ouches\n"
          ]
        }
      ]
    },
    {
      "cell_type": "markdown",
      "metadata": {
        "id": "rXLrMxFvcFu_"
      },
      "source": [
        "# DataViz\n",
        "Les coordonnées peuvent être utilisées sur des outils de visualisation, qu'il s'agisse d'outils de BI (PowerBI, Tableau), ou des bibliothèques de DataViz en Python comme Plotly ou Folium.\n",
        "\n",
        "Ici nous allons afficher une carte avec Folium.\n"
      ]
    },
    {
      "cell_type": "code",
      "metadata": {
        "id": "eGPJSG18UFlh",
        "colab": {
          "base_uri": "https://localhost:8080/"
        },
        "outputId": "d6f366db-e604-40a6-e6be-7a424e54f8c5"
      },
      "source": [
        "# Attention, le système latin retourne les coordonnées en (longitude, latitude),\n",
        "# Alors que le système anglo-saxon est en (latitude, longitude), il faut donc inverser les coordonnées\n",
        "# Ca tombe bien, vous savez le faire sur une liste avec un \"pas\" de moins un.\n",
        "point = r['features'][0]['geometry']['coordinates'][::-1]\n",
        "point"
      ],
      "execution_count": 19,
      "outputs": [
        {
          "output_type": "execute_result",
          "data": {
            "text/plain": [
              "[46.00996, 3.993163]"
            ]
          },
          "metadata": {},
          "execution_count": 19
        }
      ]
    },
    {
      "cell_type": "code",
      "metadata": {
        "id": "969VKpP1fWdJ",
        "colab": {
          "base_uri": "https://localhost:8080/",
          "height": 759
        },
        "outputId": "06e7aa2a-eeea-4158-ff8d-b0ea87dd17e1"
      },
      "source": [
        "# La syntaxe de Folium est très simple, vous commencez par créer une carte centrée sur un point\n",
        "# Vous pouvez modifier le niveau de zoom par défaut avec l'argument \"zoom_start\"\n",
        "import folium\n",
        "m = folium.Map(location=point,zoom_start=7)\n",
        "m"
      ],
      "execution_count": 21,
      "outputs": [
        {
          "output_type": "execute_result",
          "data": {
            "text/plain": [
              "<folium.folium.Map at 0x78e092801000>"
            ],
            "text/html": [
              "<div style=\"width:100%;\"><div style=\"position:relative;width:100%;height:0;padding-bottom:60%;\"><span style=\"color:#565656\">Make this Notebook Trusted to load map: File -> Trust Notebook</span><iframe srcdoc=\"&lt;!DOCTYPE html&gt;\n",
              "&lt;html&gt;\n",
              "&lt;head&gt;\n",
              "    \n",
              "    &lt;meta http-equiv=&quot;content-type&quot; content=&quot;text/html; charset=UTF-8&quot; /&gt;\n",
              "    \n",
              "        &lt;script&gt;\n",
              "            L_NO_TOUCH = false;\n",
              "            L_DISABLE_3D = false;\n",
              "        &lt;/script&gt;\n",
              "    \n",
              "    &lt;style&gt;html, body {width: 100%;height: 100%;margin: 0;padding: 0;}&lt;/style&gt;\n",
              "    &lt;style&gt;#map {position:absolute;top:0;bottom:0;right:0;left:0;}&lt;/style&gt;\n",
              "    &lt;script src=&quot;https://cdn.jsdelivr.net/npm/leaflet@1.9.3/dist/leaflet.js&quot;&gt;&lt;/script&gt;\n",
              "    &lt;script src=&quot;https://code.jquery.com/jquery-1.12.4.min.js&quot;&gt;&lt;/script&gt;\n",
              "    &lt;script src=&quot;https://cdn.jsdelivr.net/npm/bootstrap@5.2.2/dist/js/bootstrap.bundle.min.js&quot;&gt;&lt;/script&gt;\n",
              "    &lt;script src=&quot;https://cdnjs.cloudflare.com/ajax/libs/Leaflet.awesome-markers/2.0.2/leaflet.awesome-markers.js&quot;&gt;&lt;/script&gt;\n",
              "    &lt;link rel=&quot;stylesheet&quot; href=&quot;https://cdn.jsdelivr.net/npm/leaflet@1.9.3/dist/leaflet.css&quot;/&gt;\n",
              "    &lt;link rel=&quot;stylesheet&quot; href=&quot;https://cdn.jsdelivr.net/npm/bootstrap@5.2.2/dist/css/bootstrap.min.css&quot;/&gt;\n",
              "    &lt;link rel=&quot;stylesheet&quot; href=&quot;https://netdna.bootstrapcdn.com/bootstrap/3.0.0/css/bootstrap.min.css&quot;/&gt;\n",
              "    &lt;link rel=&quot;stylesheet&quot; href=&quot;https://cdn.jsdelivr.net/npm/@fortawesome/fontawesome-free@6.2.0/css/all.min.css&quot;/&gt;\n",
              "    &lt;link rel=&quot;stylesheet&quot; href=&quot;https://cdnjs.cloudflare.com/ajax/libs/Leaflet.awesome-markers/2.0.2/leaflet.awesome-markers.css&quot;/&gt;\n",
              "    &lt;link rel=&quot;stylesheet&quot; href=&quot;https://cdn.jsdelivr.net/gh/python-visualization/folium/folium/templates/leaflet.awesome.rotate.min.css&quot;/&gt;\n",
              "    \n",
              "            &lt;meta name=&quot;viewport&quot; content=&quot;width=device-width,\n",
              "                initial-scale=1.0, maximum-scale=1.0, user-scalable=no&quot; /&gt;\n",
              "            &lt;style&gt;\n",
              "                #map_22cbd4ddd0e80da74e6f97266c038280 {\n",
              "                    position: relative;\n",
              "                    width: 100.0%;\n",
              "                    height: 100.0%;\n",
              "                    left: 0.0%;\n",
              "                    top: 0.0%;\n",
              "                }\n",
              "                .leaflet-container { font-size: 1rem; }\n",
              "            &lt;/style&gt;\n",
              "        \n",
              "&lt;/head&gt;\n",
              "&lt;body&gt;\n",
              "    \n",
              "    \n",
              "            &lt;div class=&quot;folium-map&quot; id=&quot;map_22cbd4ddd0e80da74e6f97266c038280&quot; &gt;&lt;/div&gt;\n",
              "        \n",
              "&lt;/body&gt;\n",
              "&lt;script&gt;\n",
              "    \n",
              "    \n",
              "            var map_22cbd4ddd0e80da74e6f97266c038280 = L.map(\n",
              "                &quot;map_22cbd4ddd0e80da74e6f97266c038280&quot;,\n",
              "                {\n",
              "                    center: [46.00996, 3.993163],\n",
              "                    crs: L.CRS.EPSG3857,\n",
              "                    zoom: 7,\n",
              "                    zoomControl: true,\n",
              "                    preferCanvas: false,\n",
              "                }\n",
              "            );\n",
              "\n",
              "            \n",
              "\n",
              "        \n",
              "    \n",
              "            var tile_layer_dc35e22205230e67ab6981c73e0f1429 = L.tileLayer(\n",
              "                &quot;https://{s}.tile.openstreetmap.org/{z}/{x}/{y}.png&quot;,\n",
              "                {&quot;attribution&quot;: &quot;Data by \\u0026copy; \\u003ca target=\\&quot;_blank\\&quot; href=\\&quot;http://openstreetmap.org\\&quot;\\u003eOpenStreetMap\\u003c/a\\u003e, under \\u003ca target=\\&quot;_blank\\&quot; href=\\&quot;http://www.openstreetmap.org/copyright\\&quot;\\u003eODbL\\u003c/a\\u003e.&quot;, &quot;detectRetina&quot;: false, &quot;maxNativeZoom&quot;: 18, &quot;maxZoom&quot;: 18, &quot;minZoom&quot;: 0, &quot;noWrap&quot;: false, &quot;opacity&quot;: 1, &quot;subdomains&quot;: &quot;abc&quot;, &quot;tms&quot;: false}\n",
              "            ).addTo(map_22cbd4ddd0e80da74e6f97266c038280);\n",
              "        \n",
              "&lt;/script&gt;\n",
              "&lt;/html&gt;\" style=\"position:absolute;width:100%;height:100%;left:0;top:0;border:none !important;\" allowfullscreen webkitallowfullscreen mozallowfullscreen></iframe></div></div>"
            ]
          },
          "metadata": {},
          "execution_count": 21
        }
      ]
    },
    {
      "cell_type": "code",
      "metadata": {
        "id": "eXWTn1mFUKrH",
        "colab": {
          "base_uri": "https://localhost:8080/",
          "height": 759
        },
        "outputId": "e9158375-4795-4955-aefe-0fbd4e082a0d"
      },
      "source": [
        "# Puis vous pouvez ajouter des points de repère et mettre un commentaire cliquable\n",
        "m = folium.Map(location=point, )\n",
        "folium.Marker(\n",
        "    location=point,\n",
        "    popup='Un bon restau sur le pouce'\n",
        "    ).add_to(m)\n",
        "m"
      ],
      "execution_count": 22,
      "outputs": [
        {
          "output_type": "execute_result",
          "data": {
            "text/plain": [
              "<folium.folium.Map at 0x78e063206fb0>"
            ],
            "text/html": [
              "<div style=\"width:100%;\"><div style=\"position:relative;width:100%;height:0;padding-bottom:60%;\"><span style=\"color:#565656\">Make this Notebook Trusted to load map: File -> Trust Notebook</span><iframe srcdoc=\"&lt;!DOCTYPE html&gt;\n",
              "&lt;html&gt;\n",
              "&lt;head&gt;\n",
              "    \n",
              "    &lt;meta http-equiv=&quot;content-type&quot; content=&quot;text/html; charset=UTF-8&quot; /&gt;\n",
              "    \n",
              "        &lt;script&gt;\n",
              "            L_NO_TOUCH = false;\n",
              "            L_DISABLE_3D = false;\n",
              "        &lt;/script&gt;\n",
              "    \n",
              "    &lt;style&gt;html, body {width: 100%;height: 100%;margin: 0;padding: 0;}&lt;/style&gt;\n",
              "    &lt;style&gt;#map {position:absolute;top:0;bottom:0;right:0;left:0;}&lt;/style&gt;\n",
              "    &lt;script src=&quot;https://cdn.jsdelivr.net/npm/leaflet@1.9.3/dist/leaflet.js&quot;&gt;&lt;/script&gt;\n",
              "    &lt;script src=&quot;https://code.jquery.com/jquery-1.12.4.min.js&quot;&gt;&lt;/script&gt;\n",
              "    &lt;script src=&quot;https://cdn.jsdelivr.net/npm/bootstrap@5.2.2/dist/js/bootstrap.bundle.min.js&quot;&gt;&lt;/script&gt;\n",
              "    &lt;script src=&quot;https://cdnjs.cloudflare.com/ajax/libs/Leaflet.awesome-markers/2.0.2/leaflet.awesome-markers.js&quot;&gt;&lt;/script&gt;\n",
              "    &lt;link rel=&quot;stylesheet&quot; href=&quot;https://cdn.jsdelivr.net/npm/leaflet@1.9.3/dist/leaflet.css&quot;/&gt;\n",
              "    &lt;link rel=&quot;stylesheet&quot; href=&quot;https://cdn.jsdelivr.net/npm/bootstrap@5.2.2/dist/css/bootstrap.min.css&quot;/&gt;\n",
              "    &lt;link rel=&quot;stylesheet&quot; href=&quot;https://netdna.bootstrapcdn.com/bootstrap/3.0.0/css/bootstrap.min.css&quot;/&gt;\n",
              "    &lt;link rel=&quot;stylesheet&quot; href=&quot;https://cdn.jsdelivr.net/npm/@fortawesome/fontawesome-free@6.2.0/css/all.min.css&quot;/&gt;\n",
              "    &lt;link rel=&quot;stylesheet&quot; href=&quot;https://cdnjs.cloudflare.com/ajax/libs/Leaflet.awesome-markers/2.0.2/leaflet.awesome-markers.css&quot;/&gt;\n",
              "    &lt;link rel=&quot;stylesheet&quot; href=&quot;https://cdn.jsdelivr.net/gh/python-visualization/folium/folium/templates/leaflet.awesome.rotate.min.css&quot;/&gt;\n",
              "    \n",
              "            &lt;meta name=&quot;viewport&quot; content=&quot;width=device-width,\n",
              "                initial-scale=1.0, maximum-scale=1.0, user-scalable=no&quot; /&gt;\n",
              "            &lt;style&gt;\n",
              "                #map_8717a43a7a086b0d8f4840b32d012579 {\n",
              "                    position: relative;\n",
              "                    width: 100.0%;\n",
              "                    height: 100.0%;\n",
              "                    left: 0.0%;\n",
              "                    top: 0.0%;\n",
              "                }\n",
              "                .leaflet-container { font-size: 1rem; }\n",
              "            &lt;/style&gt;\n",
              "        \n",
              "&lt;/head&gt;\n",
              "&lt;body&gt;\n",
              "    \n",
              "    \n",
              "            &lt;div class=&quot;folium-map&quot; id=&quot;map_8717a43a7a086b0d8f4840b32d012579&quot; &gt;&lt;/div&gt;\n",
              "        \n",
              "&lt;/body&gt;\n",
              "&lt;script&gt;\n",
              "    \n",
              "    \n",
              "            var map_8717a43a7a086b0d8f4840b32d012579 = L.map(\n",
              "                &quot;map_8717a43a7a086b0d8f4840b32d012579&quot;,\n",
              "                {\n",
              "                    center: [46.00996, 3.993163],\n",
              "                    crs: L.CRS.EPSG3857,\n",
              "                    zoom: 10,\n",
              "                    zoomControl: true,\n",
              "                    preferCanvas: false,\n",
              "                }\n",
              "            );\n",
              "\n",
              "            \n",
              "\n",
              "        \n",
              "    \n",
              "            var tile_layer_ab4ec21318491fe5b8cfc6823fbb4678 = L.tileLayer(\n",
              "                &quot;https://{s}.tile.openstreetmap.org/{z}/{x}/{y}.png&quot;,\n",
              "                {&quot;attribution&quot;: &quot;Data by \\u0026copy; \\u003ca target=\\&quot;_blank\\&quot; href=\\&quot;http://openstreetmap.org\\&quot;\\u003eOpenStreetMap\\u003c/a\\u003e, under \\u003ca target=\\&quot;_blank\\&quot; href=\\&quot;http://www.openstreetmap.org/copyright\\&quot;\\u003eODbL\\u003c/a\\u003e.&quot;, &quot;detectRetina&quot;: false, &quot;maxNativeZoom&quot;: 18, &quot;maxZoom&quot;: 18, &quot;minZoom&quot;: 0, &quot;noWrap&quot;: false, &quot;opacity&quot;: 1, &quot;subdomains&quot;: &quot;abc&quot;, &quot;tms&quot;: false}\n",
              "            ).addTo(map_8717a43a7a086b0d8f4840b32d012579);\n",
              "        \n",
              "    \n",
              "            var marker_c2676aec82780159107de2855685981b = L.marker(\n",
              "                [46.00996, 3.993163],\n",
              "                {}\n",
              "            ).addTo(map_8717a43a7a086b0d8f4840b32d012579);\n",
              "        \n",
              "    \n",
              "        var popup_cd168124480a3dee02b975d1066163aa = L.popup({&quot;maxWidth&quot;: &quot;100%&quot;});\n",
              "\n",
              "        \n",
              "            \n",
              "                var html_3481cd008c1672071d3986dc25e88e12 = $(`&lt;div id=&quot;html_3481cd008c1672071d3986dc25e88e12&quot; style=&quot;width: 100.0%; height: 100.0%;&quot;&gt;Un bon restau sur le pouce&lt;/div&gt;`)[0];\n",
              "                popup_cd168124480a3dee02b975d1066163aa.setContent(html_3481cd008c1672071d3986dc25e88e12);\n",
              "            \n",
              "        \n",
              "\n",
              "        marker_c2676aec82780159107de2855685981b.bindPopup(popup_cd168124480a3dee02b975d1066163aa)\n",
              "        ;\n",
              "\n",
              "        \n",
              "    \n",
              "&lt;/script&gt;\n",
              "&lt;/html&gt;\" style=\"position:absolute;width:100%;height:100%;left:0;top:0;border:none !important;\" allowfullscreen webkitallowfullscreen mozallowfullscreen></iframe></div></div>"
            ]
          },
          "metadata": {},
          "execution_count": 22
        }
      ]
    },
    {
      "cell_type": "markdown",
      "metadata": {
        "id": "R1xRs4dlgC2-"
      },
      "source": [
        "# Challenge\n",
        "Voici un DataFrame avec des restaurants de Clermont-Ferrand, et leurs adresses respectives. Voici ta mission :\n",
        "- Créer une nouvelle colonne \"coordonnées\", qui stockera les coordonnées correspondant à chaque adresse (tu peux t'aider de la fonction que tu as créée précédemment)\n",
        "- Afficher une carte avec les 4 marqueurs des restaurants. Attention, les restaurants sont très proches, pense à bien régler le niveau de zoom par défaut pour que ce soit bien lisible. Tu peux centrer la carte sur le premier restaurant."
      ]
    },
    {
      "cell_type": "code",
      "metadata": {
        "id": "sHBjenHbCYjh",
        "colab": {
          "base_uri": "https://localhost:8080/",
          "height": 175
        },
        "outputId": "6858a7d7-2f89-421d-fb99-3554fbb77317"
      },
      "source": [
        "import pandas as pd\n",
        "restaurants = pd.DataFrame([[\"Polypode\",\"6 place du Champgil, Clermont-Ferrand, 63000\"],\n",
        "                            [\"Jean-Claude Leclerc\", \"12 rue St-Adjutor, Clermont-Ferrand, 63000\"],\n",
        "                            [\"L'Écureuil\", \"18 rue St-Adjutor, Clermont-Ferrand, 63000\"],\n",
        "                            [\"Le Saint-Eutrope\", \"4 rue St-Eutrope, Clermont-Ferrand, 63000\"]],\n",
        "                           columns = [\"nom\", \"adresse\"])\n",
        "\n",
        "restaurants"
      ],
      "execution_count": 25,
      "outputs": [
        {
          "output_type": "execute_result",
          "data": {
            "text/plain": [
              "                   nom                                       adresse\n",
              "0             Polypode  6 place du Champgil, Clermont-Ferrand, 63000\n",
              "1  Jean-Claude Leclerc    12 rue St-Adjutor, Clermont-Ferrand, 63000\n",
              "2           L'Écureuil    18 rue St-Adjutor, Clermont-Ferrand, 63000\n",
              "3     Le Saint-Eutrope     4 rue St-Eutrope, Clermont-Ferrand, 63000"
            ],
            "text/html": [
              "\n",
              "  <div id=\"df-d9f0fa84-7d08-4d43-836b-2c27d09c95d7\" class=\"colab-df-container\">\n",
              "    <div>\n",
              "<style scoped>\n",
              "    .dataframe tbody tr th:only-of-type {\n",
              "        vertical-align: middle;\n",
              "    }\n",
              "\n",
              "    .dataframe tbody tr th {\n",
              "        vertical-align: top;\n",
              "    }\n",
              "\n",
              "    .dataframe thead th {\n",
              "        text-align: right;\n",
              "    }\n",
              "</style>\n",
              "<table border=\"1\" class=\"dataframe\">\n",
              "  <thead>\n",
              "    <tr style=\"text-align: right;\">\n",
              "      <th></th>\n",
              "      <th>nom</th>\n",
              "      <th>adresse</th>\n",
              "    </tr>\n",
              "  </thead>\n",
              "  <tbody>\n",
              "    <tr>\n",
              "      <th>0</th>\n",
              "      <td>Polypode</td>\n",
              "      <td>6 place du Champgil, Clermont-Ferrand, 63000</td>\n",
              "    </tr>\n",
              "    <tr>\n",
              "      <th>1</th>\n",
              "      <td>Jean-Claude Leclerc</td>\n",
              "      <td>12 rue St-Adjutor, Clermont-Ferrand, 63000</td>\n",
              "    </tr>\n",
              "    <tr>\n",
              "      <th>2</th>\n",
              "      <td>L'Écureuil</td>\n",
              "      <td>18 rue St-Adjutor, Clermont-Ferrand, 63000</td>\n",
              "    </tr>\n",
              "    <tr>\n",
              "      <th>3</th>\n",
              "      <td>Le Saint-Eutrope</td>\n",
              "      <td>4 rue St-Eutrope, Clermont-Ferrand, 63000</td>\n",
              "    </tr>\n",
              "  </tbody>\n",
              "</table>\n",
              "</div>\n",
              "    <div class=\"colab-df-buttons\">\n",
              "\n",
              "  <div class=\"colab-df-container\">\n",
              "    <button class=\"colab-df-convert\" onclick=\"convertToInteractive('df-d9f0fa84-7d08-4d43-836b-2c27d09c95d7')\"\n",
              "            title=\"Convert this dataframe to an interactive table.\"\n",
              "            style=\"display:none;\">\n",
              "\n",
              "  <svg xmlns=\"http://www.w3.org/2000/svg\" height=\"24px\" viewBox=\"0 -960 960 960\">\n",
              "    <path d=\"M120-120v-720h720v720H120Zm60-500h600v-160H180v160Zm220 220h160v-160H400v160Zm0 220h160v-160H400v160ZM180-400h160v-160H180v160Zm440 0h160v-160H620v160ZM180-180h160v-160H180v160Zm440 0h160v-160H620v160Z\"/>\n",
              "  </svg>\n",
              "    </button>\n",
              "\n",
              "  <style>\n",
              "    .colab-df-container {\n",
              "      display:flex;\n",
              "      gap: 12px;\n",
              "    }\n",
              "\n",
              "    .colab-df-convert {\n",
              "      background-color: #E8F0FE;\n",
              "      border: none;\n",
              "      border-radius: 50%;\n",
              "      cursor: pointer;\n",
              "      display: none;\n",
              "      fill: #1967D2;\n",
              "      height: 32px;\n",
              "      padding: 0 0 0 0;\n",
              "      width: 32px;\n",
              "    }\n",
              "\n",
              "    .colab-df-convert:hover {\n",
              "      background-color: #E2EBFA;\n",
              "      box-shadow: 0px 1px 2px rgba(60, 64, 67, 0.3), 0px 1px 3px 1px rgba(60, 64, 67, 0.15);\n",
              "      fill: #174EA6;\n",
              "    }\n",
              "\n",
              "    .colab-df-buttons div {\n",
              "      margin-bottom: 4px;\n",
              "    }\n",
              "\n",
              "    [theme=dark] .colab-df-convert {\n",
              "      background-color: #3B4455;\n",
              "      fill: #D2E3FC;\n",
              "    }\n",
              "\n",
              "    [theme=dark] .colab-df-convert:hover {\n",
              "      background-color: #434B5C;\n",
              "      box-shadow: 0px 1px 3px 1px rgba(0, 0, 0, 0.15);\n",
              "      filter: drop-shadow(0px 1px 2px rgba(0, 0, 0, 0.3));\n",
              "      fill: #FFFFFF;\n",
              "    }\n",
              "  </style>\n",
              "\n",
              "    <script>\n",
              "      const buttonEl =\n",
              "        document.querySelector('#df-d9f0fa84-7d08-4d43-836b-2c27d09c95d7 button.colab-df-convert');\n",
              "      buttonEl.style.display =\n",
              "        google.colab.kernel.accessAllowed ? 'block' : 'none';\n",
              "\n",
              "      async function convertToInteractive(key) {\n",
              "        const element = document.querySelector('#df-d9f0fa84-7d08-4d43-836b-2c27d09c95d7');\n",
              "        const dataTable =\n",
              "          await google.colab.kernel.invokeFunction('convertToInteractive',\n",
              "                                                    [key], {});\n",
              "        if (!dataTable) return;\n",
              "\n",
              "        const docLinkHtml = 'Like what you see? Visit the ' +\n",
              "          '<a target=\"_blank\" href=https://colab.research.google.com/notebooks/data_table.ipynb>data table notebook</a>'\n",
              "          + ' to learn more about interactive tables.';\n",
              "        element.innerHTML = '';\n",
              "        dataTable['output_type'] = 'display_data';\n",
              "        await google.colab.output.renderOutput(dataTable, element);\n",
              "        const docLink = document.createElement('div');\n",
              "        docLink.innerHTML = docLinkHtml;\n",
              "        element.appendChild(docLink);\n",
              "      }\n",
              "    </script>\n",
              "  </div>\n",
              "\n",
              "\n",
              "<div id=\"df-1f6b2c7e-e44c-430b-8bc1-ec1b02f79691\">\n",
              "  <button class=\"colab-df-quickchart\" onclick=\"quickchart('df-1f6b2c7e-e44c-430b-8bc1-ec1b02f79691')\"\n",
              "            title=\"Suggest charts\"\n",
              "            style=\"display:none;\">\n",
              "\n",
              "<svg xmlns=\"http://www.w3.org/2000/svg\" height=\"24px\"viewBox=\"0 0 24 24\"\n",
              "     width=\"24px\">\n",
              "    <g>\n",
              "        <path d=\"M19 3H5c-1.1 0-2 .9-2 2v14c0 1.1.9 2 2 2h14c1.1 0 2-.9 2-2V5c0-1.1-.9-2-2-2zM9 17H7v-7h2v7zm4 0h-2V7h2v10zm4 0h-2v-4h2v4z\"/>\n",
              "    </g>\n",
              "</svg>\n",
              "  </button>\n",
              "\n",
              "<style>\n",
              "  .colab-df-quickchart {\n",
              "      --bg-color: #E8F0FE;\n",
              "      --fill-color: #1967D2;\n",
              "      --hover-bg-color: #E2EBFA;\n",
              "      --hover-fill-color: #174EA6;\n",
              "      --disabled-fill-color: #AAA;\n",
              "      --disabled-bg-color: #DDD;\n",
              "  }\n",
              "\n",
              "  [theme=dark] .colab-df-quickchart {\n",
              "      --bg-color: #3B4455;\n",
              "      --fill-color: #D2E3FC;\n",
              "      --hover-bg-color: #434B5C;\n",
              "      --hover-fill-color: #FFFFFF;\n",
              "      --disabled-bg-color: #3B4455;\n",
              "      --disabled-fill-color: #666;\n",
              "  }\n",
              "\n",
              "  .colab-df-quickchart {\n",
              "    background-color: var(--bg-color);\n",
              "    border: none;\n",
              "    border-radius: 50%;\n",
              "    cursor: pointer;\n",
              "    display: none;\n",
              "    fill: var(--fill-color);\n",
              "    height: 32px;\n",
              "    padding: 0;\n",
              "    width: 32px;\n",
              "  }\n",
              "\n",
              "  .colab-df-quickchart:hover {\n",
              "    background-color: var(--hover-bg-color);\n",
              "    box-shadow: 0 1px 2px rgba(60, 64, 67, 0.3), 0 1px 3px 1px rgba(60, 64, 67, 0.15);\n",
              "    fill: var(--button-hover-fill-color);\n",
              "  }\n",
              "\n",
              "  .colab-df-quickchart-complete:disabled,\n",
              "  .colab-df-quickchart-complete:disabled:hover {\n",
              "    background-color: var(--disabled-bg-color);\n",
              "    fill: var(--disabled-fill-color);\n",
              "    box-shadow: none;\n",
              "  }\n",
              "\n",
              "  .colab-df-spinner {\n",
              "    border: 2px solid var(--fill-color);\n",
              "    border-color: transparent;\n",
              "    border-bottom-color: var(--fill-color);\n",
              "    animation:\n",
              "      spin 1s steps(1) infinite;\n",
              "  }\n",
              "\n",
              "  @keyframes spin {\n",
              "    0% {\n",
              "      border-color: transparent;\n",
              "      border-bottom-color: var(--fill-color);\n",
              "      border-left-color: var(--fill-color);\n",
              "    }\n",
              "    20% {\n",
              "      border-color: transparent;\n",
              "      border-left-color: var(--fill-color);\n",
              "      border-top-color: var(--fill-color);\n",
              "    }\n",
              "    30% {\n",
              "      border-color: transparent;\n",
              "      border-left-color: var(--fill-color);\n",
              "      border-top-color: var(--fill-color);\n",
              "      border-right-color: var(--fill-color);\n",
              "    }\n",
              "    40% {\n",
              "      border-color: transparent;\n",
              "      border-right-color: var(--fill-color);\n",
              "      border-top-color: var(--fill-color);\n",
              "    }\n",
              "    60% {\n",
              "      border-color: transparent;\n",
              "      border-right-color: var(--fill-color);\n",
              "    }\n",
              "    80% {\n",
              "      border-color: transparent;\n",
              "      border-right-color: var(--fill-color);\n",
              "      border-bottom-color: var(--fill-color);\n",
              "    }\n",
              "    90% {\n",
              "      border-color: transparent;\n",
              "      border-bottom-color: var(--fill-color);\n",
              "    }\n",
              "  }\n",
              "</style>\n",
              "\n",
              "  <script>\n",
              "    async function quickchart(key) {\n",
              "      const quickchartButtonEl =\n",
              "        document.querySelector('#' + key + ' button');\n",
              "      quickchartButtonEl.disabled = true;  // To prevent multiple clicks.\n",
              "      quickchartButtonEl.classList.add('colab-df-spinner');\n",
              "      try {\n",
              "        const charts = await google.colab.kernel.invokeFunction(\n",
              "            'suggestCharts', [key], {});\n",
              "      } catch (error) {\n",
              "        console.error('Error during call to suggestCharts:', error);\n",
              "      }\n",
              "      quickchartButtonEl.classList.remove('colab-df-spinner');\n",
              "      quickchartButtonEl.classList.add('colab-df-quickchart-complete');\n",
              "    }\n",
              "    (() => {\n",
              "      let quickchartButtonEl =\n",
              "        document.querySelector('#df-1f6b2c7e-e44c-430b-8bc1-ec1b02f79691 button');\n",
              "      quickchartButtonEl.style.display =\n",
              "        google.colab.kernel.accessAllowed ? 'block' : 'none';\n",
              "    })();\n",
              "  </script>\n",
              "</div>\n",
              "    </div>\n",
              "  </div>\n"
            ]
          },
          "metadata": {},
          "execution_count": 25
        }
      ]
    },
    {
      "cell_type": "code",
      "metadata": {
        "id": "FnfpiC3WE_Dj",
        "colab": {
          "base_uri": "https://localhost:8080/",
          "height": 759
        },
        "outputId": "511b3d45-3d11-4df1-e728-63f8efc5d0e0"
      },
      "source": [
        "# Ton code ici :\n",
        "import pandas as pd\n",
        "import folium\n",
        "import requests\n",
        "\n",
        "def API_adresse(adresse_postale):\n",
        "    adresse_modifiee = adresse_postale.replace(' ', '+')\n",
        "    link_main = 'https://api-adresse.data.gouv.fr/search/?q='\n",
        "    url_requete = link_main + adresse_modifiee\n",
        "    return url_requete\n",
        "\n",
        "restaurants[\"coordonnées\"] = restaurants[\"adresse\"].apply(API_adresse)\n",
        "#on récupère les coord du premier restau\n",
        "premier_restaurant_coords = requests.get(restaurants[\"coordonnées\"].iloc[0]).json()['features'][0]['geometry']['coordinates'][::-1]\n",
        "\n",
        "#carte centré sur le premier restau\n",
        "m = folium.Map(location= premier_restaurant_coords, zoom_start=17)\n",
        "#on pose les marqueurs\n",
        "for index, row in restaurants.iterrows():\n",
        "  coords = requests.get(row[\"coordonnées\"]).json()['features'][0]['geometry']['coordinates'][::-1]\n",
        "  folium.Marker(location=coords, popup=row[\"nom\"]).add_to(m)\n",
        "\n",
        "m"
      ],
      "execution_count": 34,
      "outputs": [
        {
          "output_type": "execute_result",
          "data": {
            "text/plain": [
              "<folium.folium.Map at 0x78e05fe55f60>"
            ],
            "text/html": [
              "<div style=\"width:100%;\"><div style=\"position:relative;width:100%;height:0;padding-bottom:60%;\"><span style=\"color:#565656\">Make this Notebook Trusted to load map: File -> Trust Notebook</span><iframe srcdoc=\"&lt;!DOCTYPE html&gt;\n",
              "&lt;html&gt;\n",
              "&lt;head&gt;\n",
              "    \n",
              "    &lt;meta http-equiv=&quot;content-type&quot; content=&quot;text/html; charset=UTF-8&quot; /&gt;\n",
              "    \n",
              "        &lt;script&gt;\n",
              "            L_NO_TOUCH = false;\n",
              "            L_DISABLE_3D = false;\n",
              "        &lt;/script&gt;\n",
              "    \n",
              "    &lt;style&gt;html, body {width: 100%;height: 100%;margin: 0;padding: 0;}&lt;/style&gt;\n",
              "    &lt;style&gt;#map {position:absolute;top:0;bottom:0;right:0;left:0;}&lt;/style&gt;\n",
              "    &lt;script src=&quot;https://cdn.jsdelivr.net/npm/leaflet@1.9.3/dist/leaflet.js&quot;&gt;&lt;/script&gt;\n",
              "    &lt;script src=&quot;https://code.jquery.com/jquery-1.12.4.min.js&quot;&gt;&lt;/script&gt;\n",
              "    &lt;script src=&quot;https://cdn.jsdelivr.net/npm/bootstrap@5.2.2/dist/js/bootstrap.bundle.min.js&quot;&gt;&lt;/script&gt;\n",
              "    &lt;script src=&quot;https://cdnjs.cloudflare.com/ajax/libs/Leaflet.awesome-markers/2.0.2/leaflet.awesome-markers.js&quot;&gt;&lt;/script&gt;\n",
              "    &lt;link rel=&quot;stylesheet&quot; href=&quot;https://cdn.jsdelivr.net/npm/leaflet@1.9.3/dist/leaflet.css&quot;/&gt;\n",
              "    &lt;link rel=&quot;stylesheet&quot; href=&quot;https://cdn.jsdelivr.net/npm/bootstrap@5.2.2/dist/css/bootstrap.min.css&quot;/&gt;\n",
              "    &lt;link rel=&quot;stylesheet&quot; href=&quot;https://netdna.bootstrapcdn.com/bootstrap/3.0.0/css/bootstrap.min.css&quot;/&gt;\n",
              "    &lt;link rel=&quot;stylesheet&quot; href=&quot;https://cdn.jsdelivr.net/npm/@fortawesome/fontawesome-free@6.2.0/css/all.min.css&quot;/&gt;\n",
              "    &lt;link rel=&quot;stylesheet&quot; href=&quot;https://cdnjs.cloudflare.com/ajax/libs/Leaflet.awesome-markers/2.0.2/leaflet.awesome-markers.css&quot;/&gt;\n",
              "    &lt;link rel=&quot;stylesheet&quot; href=&quot;https://cdn.jsdelivr.net/gh/python-visualization/folium/folium/templates/leaflet.awesome.rotate.min.css&quot;/&gt;\n",
              "    \n",
              "            &lt;meta name=&quot;viewport&quot; content=&quot;width=device-width,\n",
              "                initial-scale=1.0, maximum-scale=1.0, user-scalable=no&quot; /&gt;\n",
              "            &lt;style&gt;\n",
              "                #map_e391adf94c8ada8a4f145e01228fe8a2 {\n",
              "                    position: relative;\n",
              "                    width: 100.0%;\n",
              "                    height: 100.0%;\n",
              "                    left: 0.0%;\n",
              "                    top: 0.0%;\n",
              "                }\n",
              "                .leaflet-container { font-size: 1rem; }\n",
              "            &lt;/style&gt;\n",
              "        \n",
              "&lt;/head&gt;\n",
              "&lt;body&gt;\n",
              "    \n",
              "    \n",
              "            &lt;div class=&quot;folium-map&quot; id=&quot;map_e391adf94c8ada8a4f145e01228fe8a2&quot; &gt;&lt;/div&gt;\n",
              "        \n",
              "&lt;/body&gt;\n",
              "&lt;script&gt;\n",
              "    \n",
              "    \n",
              "            var map_e391adf94c8ada8a4f145e01228fe8a2 = L.map(\n",
              "                &quot;map_e391adf94c8ada8a4f145e01228fe8a2&quot;,\n",
              "                {\n",
              "                    center: [45.778867, 3.079426],\n",
              "                    crs: L.CRS.EPSG3857,\n",
              "                    zoom: 17,\n",
              "                    zoomControl: true,\n",
              "                    preferCanvas: false,\n",
              "                }\n",
              "            );\n",
              "\n",
              "            \n",
              "\n",
              "        \n",
              "    \n",
              "            var tile_layer_7e7621acbfeca713beaecfbdbc26083d = L.tileLayer(\n",
              "                &quot;https://{s}.tile.openstreetmap.org/{z}/{x}/{y}.png&quot;,\n",
              "                {&quot;attribution&quot;: &quot;Data by \\u0026copy; \\u003ca target=\\&quot;_blank\\&quot; href=\\&quot;http://openstreetmap.org\\&quot;\\u003eOpenStreetMap\\u003c/a\\u003e, under \\u003ca target=\\&quot;_blank\\&quot; href=\\&quot;http://www.openstreetmap.org/copyright\\&quot;\\u003eODbL\\u003c/a\\u003e.&quot;, &quot;detectRetina&quot;: false, &quot;maxNativeZoom&quot;: 18, &quot;maxZoom&quot;: 18, &quot;minZoom&quot;: 0, &quot;noWrap&quot;: false, &quot;opacity&quot;: 1, &quot;subdomains&quot;: &quot;abc&quot;, &quot;tms&quot;: false}\n",
              "            ).addTo(map_e391adf94c8ada8a4f145e01228fe8a2);\n",
              "        \n",
              "    \n",
              "            var marker_f04837c0ac3db73fc53b921948589bc0 = L.marker(\n",
              "                [45.778867, 3.079426],\n",
              "                {}\n",
              "            ).addTo(map_e391adf94c8ada8a4f145e01228fe8a2);\n",
              "        \n",
              "    \n",
              "        var popup_d8f72e7a6dc47c81663850d3d5e490f7 = L.popup({&quot;maxWidth&quot;: &quot;100%&quot;});\n",
              "\n",
              "        \n",
              "            \n",
              "                var html_7fa9deb31c9210ffc2bfaa77f1fb5616 = $(`&lt;div id=&quot;html_7fa9deb31c9210ffc2bfaa77f1fb5616&quot; style=&quot;width: 100.0%; height: 100.0%;&quot;&gt;Polypode&lt;/div&gt;`)[0];\n",
              "                popup_d8f72e7a6dc47c81663850d3d5e490f7.setContent(html_7fa9deb31c9210ffc2bfaa77f1fb5616);\n",
              "            \n",
              "        \n",
              "\n",
              "        marker_f04837c0ac3db73fc53b921948589bc0.bindPopup(popup_d8f72e7a6dc47c81663850d3d5e490f7)\n",
              "        ;\n",
              "\n",
              "        \n",
              "    \n",
              "    \n",
              "            var marker_0a3c51e1af75b62b3c3cb51e48d41703 = L.marker(\n",
              "                [45.778846, 3.080385],\n",
              "                {}\n",
              "            ).addTo(map_e391adf94c8ada8a4f145e01228fe8a2);\n",
              "        \n",
              "    \n",
              "        var popup_20469ca835e7063f06a88d14770b68b7 = L.popup({&quot;maxWidth&quot;: &quot;100%&quot;});\n",
              "\n",
              "        \n",
              "            \n",
              "                var html_f126adce9f101cd55276524f03c43ced = $(`&lt;div id=&quot;html_f126adce9f101cd55276524f03c43ced&quot; style=&quot;width: 100.0%; height: 100.0%;&quot;&gt;Jean-Claude Leclerc&lt;/div&gt;`)[0];\n",
              "                popup_20469ca835e7063f06a88d14770b68b7.setContent(html_f126adce9f101cd55276524f03c43ced);\n",
              "            \n",
              "        \n",
              "\n",
              "        marker_0a3c51e1af75b62b3c3cb51e48d41703.bindPopup(popup_20469ca835e7063f06a88d14770b68b7)\n",
              "        ;\n",
              "\n",
              "        \n",
              "    \n",
              "    \n",
              "            var marker_8ce81082366e927b91605c86533078f6 = L.marker(\n",
              "                [45.779, 3.08043],\n",
              "                {}\n",
              "            ).addTo(map_e391adf94c8ada8a4f145e01228fe8a2);\n",
              "        \n",
              "    \n",
              "        var popup_89c6cf4483dae64013ef94723135dde4 = L.popup({&quot;maxWidth&quot;: &quot;100%&quot;});\n",
              "\n",
              "        \n",
              "            \n",
              "                var html_18b162000e121c22d247440a46b926be = $(`&lt;div id=&quot;html_18b162000e121c22d247440a46b926be&quot; style=&quot;width: 100.0%; height: 100.0%;&quot;&gt;L&#x27;Écureuil&lt;/div&gt;`)[0];\n",
              "                popup_89c6cf4483dae64013ef94723135dde4.setContent(html_18b162000e121c22d247440a46b926be);\n",
              "            \n",
              "        \n",
              "\n",
              "        marker_8ce81082366e927b91605c86533078f6.bindPopup(popup_89c6cf4483dae64013ef94723135dde4)\n",
              "        ;\n",
              "\n",
              "        \n",
              "    \n",
              "    \n",
              "            var marker_38e320a07b140801eb146528ce3222ba = L.marker(\n",
              "                [45.781347, 3.08249],\n",
              "                {}\n",
              "            ).addTo(map_e391adf94c8ada8a4f145e01228fe8a2);\n",
              "        \n",
              "    \n",
              "        var popup_d0ccfeffa8014416b3ad9ab71df406a9 = L.popup({&quot;maxWidth&quot;: &quot;100%&quot;});\n",
              "\n",
              "        \n",
              "            \n",
              "                var html_c013722f067ec51bc1e89132504d4a7f = $(`&lt;div id=&quot;html_c013722f067ec51bc1e89132504d4a7f&quot; style=&quot;width: 100.0%; height: 100.0%;&quot;&gt;Le Saint-Eutrope&lt;/div&gt;`)[0];\n",
              "                popup_d0ccfeffa8014416b3ad9ab71df406a9.setContent(html_c013722f067ec51bc1e89132504d4a7f);\n",
              "            \n",
              "        \n",
              "\n",
              "        marker_38e320a07b140801eb146528ce3222ba.bindPopup(popup_d0ccfeffa8014416b3ad9ab71df406a9)\n",
              "        ;\n",
              "\n",
              "        \n",
              "    \n",
              "&lt;/script&gt;\n",
              "&lt;/html&gt;\" style=\"position:absolute;width:100%;height:100%;left:0;top:0;border:none !important;\" allowfullscreen webkitallowfullscreen mozallowfullscreen></iframe></div></div>"
            ]
          },
          "metadata": {},
          "execution_count": 34
        }
      ]
    },
    {
      "cell_type": "markdown",
      "metadata": {
        "id": "5198aDGpHIF2"
      },
      "source": [
        "# Remarques sur l'API Adresse\n",
        "Comme indiqué dans la quête, il existe un grand nombre de ressources permettant de faire du géocodage. La plupart sont sur inscription, et certaines sont payantes.\n",
        "\n",
        "L'API Adresse est gratuite et sans inscription. L'inconvénient est qu'elle est relativement lente. Si tu dois l'utiliser à l'avenir, pense donc à stocker les résultats pour éviter de devoir relancer le traitement plusieurs fois.\n",
        "\n",
        "Pour ta connaissance, il existe également :\n",
        "- l'API Adresse **reverse** qui permet de trouver l'adresse postale la plus proche à partir de coordonnées géographiques\n",
        "- l'API à partir d'un **fichier CSV** si vous avez beaucoup de lignes à géocoder\n",
        "- l'API **découpage administratif** qui permet d'obtenir un format geoJSON des communes et départements pour effectuer des cartes choroplèthes\n",
        "\n",
        "Toutes la [documentation est disponible ici](https://geo.api.gouv.fr/adresse)."
      ]
    }
  ]
}